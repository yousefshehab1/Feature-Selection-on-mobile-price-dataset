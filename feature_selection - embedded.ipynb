{
 "cells": [
  {
   "cell_type": "code",
   "execution_count": 1,
   "id": "e04c194e-6d66-4135-ba18-b0440495248a",
   "metadata": {},
   "outputs": [
    {
     "name": "stdout",
     "output_type": "stream",
     "text": [
      "Selected Features: Index(['battery_power', 'mobile_wt', 'px_height', 'px_width', 'ram'], dtype='object')\n",
      "Accuracy: 0.935\n"
     ]
    }
   ],
   "source": [
    "import pandas as pd\n",
    "from sklearn.model_selection import train_test_split\n",
    "from sklearn.linear_model import Lasso\n",
    "from sklearn.ensemble import RandomForestClassifier\n",
    "from sklearn.metrics import accuracy_score\n",
    "\n",
    "# 1. Load the Data\n",
    "data = pd.read_csv(r\"D:\\semester6\\Datasets\\train.csv\")\n",
    "\n",
    "# 2. Preprocessing (if needed)\n",
    "\n",
    "# 3. Split the Data\n",
    "X = data.drop('price_range', axis=1)  # Adjust 'target_column_name' to your actual target column\n",
    "y = data['price_range']\n",
    "\n",
    "# 4. Feature Selection with Lasso Regression\n",
    "lasso = Lasso(alpha=0.4)  # You can adjust the alpha parameter as needed\n",
    "lasso.fit(X, y)\n",
    "\n",
    "# Get selected features\n",
    "selected_features = X.columns[lasso.coef_ != 0]\n",
    "\n",
    "print(\"Selected Features:\", selected_features)\n",
    "\n",
    "# 5. Model Training\n",
    "X_selected = X[selected_features]\n",
    "X_train, X_test, y_train, y_test = train_test_split(X_selected, y, test_size=0.2, random_state=42)\n",
    "model = RandomForestClassifier()  # You can use any model here\n",
    "model.fit(X_train, y_train)\n",
    "y_pred = model.predict(X_test)\n",
    "accuracy = accuracy_score(y_test, y_pred)\n",
    "print(\"Accuracy:\", accuracy)"
   ]
  },
  {
   "cell_type": "code",
   "execution_count": null,
   "id": "0055439a-3598-4a80-91ac-f5fd7d974ebe",
   "metadata": {},
   "outputs": [],
   "source": []
  }
 ],
 "metadata": {
  "kernelspec": {
   "display_name": "Python 3 (ipykernel)",
   "language": "python",
   "name": "python3"
  },
  "language_info": {
   "codemirror_mode": {
    "name": "ipython",
    "version": 3
   },
   "file_extension": ".py",
   "mimetype": "text/x-python",
   "name": "python",
   "nbconvert_exporter": "python",
   "pygments_lexer": "ipython3",
   "version": "3.11.5"
  }
 },
 "nbformat": 4,
 "nbformat_minor": 5
}
